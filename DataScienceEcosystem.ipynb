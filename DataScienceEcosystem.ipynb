{
 "cells": [
  {
   "cell_type": "markdown",
   "id": "2640b095-e0b9-4119-a891-9be129d34806",
   "metadata": {},
   "source": [
    "# Introduction \n",
    "## This is the notebook for discussing tools and ecosystem of Data Science"
   ]
  },
  {
   "cell_type": "markdown",
   "id": "3b024888-0316-4e62-8d81-65ce9fb3b505",
   "metadata": {},
   "source": [
    "# Data Science Languages\n",
    "## Some of the popular data science languages used by data scientists are as follows\n",
    "### 1. Python\n",
    "### 2. R\n",
    "### 3. SQL (Structured Query Language)\n",
    "### 4. Julia\n",
    "### 5. Java\n",
    "### 6. JavaScript\n",
    "### 7. Scala\n",
    "### 8. C/C++\n",
    "### 9. MATLAB\n",
    "### 10. Go\n",
    "### 11. SAS"
   ]
  },
  {
   "cell_type": "markdown",
   "id": "10c65e07-b13a-4080-9e93-f019ce602536",
   "metadata": {},
   "source": [
    "# Data Science Libraries\n",
    "## Some of the data science libraries are as follows\n",
    "### 1. SciPy \n",
    "### 2. NumPy \n",
    "### 3. Pandas \n",
    "### 4. TensorFlow \n",
    "### 5. Matplotlib \n",
    "### 6. Ggplot2 \n",
    "### 7. Tidyverse \n",
    "### 8. Dplyr "
   ]
  },
  {
   "cell_type": "markdown",
   "id": "afd16779-3748-424f-9e17-6e474c19d82f",
   "metadata": {
    "tags": []
   },
   "source": [
    "# Data Science Tools\n",
    "---\n",
    "## RStudio\n",
    "---\n",
    "## Apache Spark\n",
    "---\n",
    "## TensorFlow \n",
    "---\n",
    "## Apache Hadoop \n",
    "---\n",
    "## RapidMiner "
   ]
  },
  {
   "cell_type": "markdown",
   "id": "ea0013a0-5de5-4644-906f-ab96531d59f8",
   "metadata": {},
   "source": [
    "### Below are a few examples of arithmetic expressions in Python "
   ]
  },
  {
   "cell_type": "code",
   "execution_count": 2,
   "id": "c180550f-89eb-4353-8421-8063a50a414f",
   "metadata": {
    "tags": []
   },
   "outputs": [
    {
     "data": {
      "text/plain": [
       "17"
      ]
     },
     "execution_count": 2,
     "metadata": {},
     "output_type": "execute_result"
    }
   ],
   "source": [
    "# This is a simple arithmetic expression to multiply then add integers\n",
    "(3*4)+5"
   ]
  },
  {
   "cell_type": "code",
   "execution_count": 3,
   "id": "60753650-3003-4a30-82c8-58e713d44a1c",
   "metadata": {
    "tags": []
   },
   "outputs": [
    {
     "data": {
      "text/plain": [
       "3.3333333333333335"
      ]
     },
     "execution_count": 3,
     "metadata": {},
     "output_type": "execute_result"
    }
   ],
   "source": [
    "# This will convert 200 minutes to hours by dividing by 60\n",
    "200/60"
   ]
  },
  {
   "cell_type": "markdown",
   "id": "ff8a8167-4319-4570-bb6a-b4a40f27337b",
   "metadata": {},
   "source": [
    "# Objectives\n",
    " - List of data science languages\n",
    " - List of data science libraries\n",
    " - Some of the popular data science tools\n",
    " - Arithmetic expressions\n",
    " - Converting minutes into hours"
   ]
  },
  {
   "cell_type": "markdown",
   "id": "2a339e6f-9c5d-4af2-a644-01f47c161ffa",
   "metadata": {},
   "source": [
    "## Author\n",
    "Sarbar Ali Saha"
   ]
  },
  {
   "cell_type": "code",
   "execution_count": null,
   "id": "4b253089-c415-4784-8cf6-6e6bf41d84f1",
   "metadata": {},
   "outputs": [],
   "source": []
  }
 ],
 "metadata": {
  "kernelspec": {
   "display_name": "Python",
   "language": "python",
   "name": "conda-env-python-py"
  },
  "language_info": {
   "codemirror_mode": {
    "name": "ipython",
    "version": 3
   },
   "file_extension": ".py",
   "mimetype": "text/x-python",
   "name": "python",
   "nbconvert_exporter": "python",
   "pygments_lexer": "ipython3",
   "version": "3.7.12"
  }
 },
 "nbformat": 4,
 "nbformat_minor": 5
}
